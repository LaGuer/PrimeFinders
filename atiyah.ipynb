{
 "cells": [
  {
   "cell_type": "markdown",
   "metadata": {},
   "source": [
    "### Sir Michael Atiyah's key formula\n",
    "\n",
    "https://www.reddit.com/r/math/comments/9ig4ei/atiyahs_computation_of_the_fine_structure/\n",
    "\n",
    "$$2Ч = \\lim_{n\\to\\infty}\\sum^{j=n}_{j=1} 2^{-j} (1-\\int_{1/j}^{j}log_2 x  \\mathrm{d}x)$$\n",
    "\n",
    "Work to be continued"
   ]
  },
  {
   "cell_type": "markdown",
   "metadata": {},
   "source": [
    "[![nbviewer](https://img.shields.io/badge/view%20on-nbviewer-brightgreen.svg)](https://nbviewer.jupyter.org/github/LaGuer/PrimeFinders/blob/master/atiyah.ipynb)\n"
   ]
  },
  {
   "cell_type": "code",
   "execution_count": 1,
   "metadata": {},
   "outputs": [
    {
     "name": "stdout",
     "output_type": "stream",
     "text": [
      "linux\n"
     ]
    }
   ],
   "source": [
    "import sys\n",
    "print(sys.platform)"
   ]
  },
  {
   "cell_type": "markdown",
   "metadata": {},
   "source": [
    "The computation_of_the_fine_structure $$2Ч = \\lim_{n\\to\\infty}\\sum^{j=n}_{j=1} 2^{-j} (1-\\int_{1/j}^{j}log_2^{324*\\gamma})$$ with a closer approximation yields: α alpha = 137.01137490243107\n",
    "Ж = 0.007298664075972691\n",
    "Ч = 0.0013410087500337017\n",
    "γ = 0.5772156649015329"
   ]
  },
  {
   "cell_type": "code",
   "execution_count": 9,
   "metadata": {},
   "outputs": [
    {
     "name": "stdout",
     "output_type": "stream",
     "text": [
      "α alpha = 137.01137490243107\n",
      "Ж = 0.007298664075972691\n",
      "Ч = 0.0013410087500337017\n",
      "γ = 0.5772156649015329\n"
     ]
    }
   ],
   "source": [
    "import numpy as np\n",
    "from math import log, pi as π\n",
    "from numpy import euler_gamma as γ\n",
    "\n",
    "# Ж = T(π),\n",
    "# Ч = T(γ) where γ is Euler-Mascheroni’s constant γ\n",
    "# (1.1) Ч/γ = Ж/π.\n",
    "# $$int_j^{j+1} log_2 x dx + int_{1/(j+1)}^{1/j} log_2 x dx$$\n",
    "\n",
    "Ч = sum(2**-j * (1 - ((j + 1/j) * np.log(j) - j + 1/j)) / np.log(2**(324*γ))\n",
    "        for j in range(1, 100)) / 2\n",
    "\n",
    "Ж = π * Ч / γ\n",
    "α = 1/Ж\n",
    "\n",
    "print(\"α alpha =\", α)\n",
    "print(\"Ж =\", Ж)\n",
    "print(\"Ч =\", Ч)\n",
    "print(\"γ =\", γ)\n",
    "\n",
    "# The correct value is alpha = 0.0072973525664, or 1 / alpha = 137.035999139."
   ]
  },
  {
   "cell_type": "code",
   "execution_count": null,
   "metadata": {},
   "outputs": [],
   "source": [
    "#!pip install gmpy2\n",
    "#!pip install https://github.com/aleaxit/gmpy/tree/master/gmpy2\n",
    "#!pip install git+https://github.com/aleaxit/gmpy.git@gmpy2-2.1a4\n",
    "#!pip install git+https://github.com/aleaxit/gmpy.git@gmpy2-2.1.0a0\n",
    "!pip install sympy\n",
    "!pip install scipy\n",
    "!pip install numpy"
   ]
  },
  {
   "cell_type": "code",
   "execution_count": 3,
   "metadata": {},
   "outputs": [],
   "source": [
    "from sympy import ntheory as nt"
   ]
  },
  {
   "cell_type": "markdown",
   "metadata": {},
   "source": [
    "The computation_of_the_fine_structure $$2Ч = \\lim_{n\\to\\infty}\\sum^{j=n}_{j=1} 2^{-j} (1-\\int_{1/j}^{j}log_2)\\frac{11}{2}$$ with a closer approximation yields: α alpha = 137.01137490243107\n",
    "α alpha = 137.2770937479112\n",
    "Ж = 0.0072845364998500774\n",
    "Ч = 0.0013384130416958485\n",
    "γ = 0.5772156649015329"
   ]
  },
  {
   "cell_type": "code",
   "execution_count": 10,
   "metadata": {},
   "outputs": [
    {
     "name": "stdout",
     "output_type": "stream",
     "text": [
      "α alpha = 137.2770937479112\n",
      "Ж = 0.0072845364998500774\n",
      "Ч = 0.0013384130416958485\n",
      "γ = 0.5772156649015329\n"
     ]
    }
   ],
   "source": [
    "\n",
    "import numpy as np\n",
    "from math import log, pi as π\n",
    "from numpy import euler_gamma as γ\n",
    "\n",
    "# Ж = T(π),\n",
    "# Ч = T(γ) where γ is Euler-Mascheroni’s constant γ\n",
    "# (1.1) Ч/γ = Ж/π.\n",
    "# $$int_j^{j+1} log_2 x dx + int_{1/(j+1)}^{1/j} log_2 x dx$$\n",
    "\n",
    "Ч = sum(2**-j * (1 - ((j + 1/j) * np.log(j) - j + 1/j) / np.log(2))/(11*2)\n",
    "#Ч = sum(2**-j * (1 - ((j + 1/j) * np.log(j) - j + 1/j) / np.log(2**(2**(9/2))))\n",
    "        for j in range(1, 100)) / 2\n",
    "\n",
    "Ж = π * Ч / γ\n",
    "α = 1/Ж\n",
    "\n",
    "print(\"α alpha =\", α)\n",
    "print(\"Ж =\", Ж)\n",
    "print(\"Ч =\", Ч)\n",
    "print(\"γ =\", γ)\n",
    "\n",
    "# The correct value is alpha = 0.0072973525664, or 1 / alpha = 137.035999139."
   ]
  },
  {
   "cell_type": "markdown",
   "metadata": {},
   "source": [
    "$$2Ч = \\frac{8*\\pi^2}{log(2)}$$"
   ]
  },
  {
   "cell_type": "code",
   "execution_count": 15,
   "metadata": {},
   "outputs": [
    {
     "data": {
      "text/plain": [
       "113.91063459990004"
      ]
     },
     "execution_count": 15,
     "metadata": {},
     "output_type": "execute_result"
    }
   ],
   "source": [
    "#Joel Sternheimer \"Evariste\" cited by Fancis M. Sanchez in \n",
    "(8*np.pi**2/np.log(2))"
   ]
  },
  {
   "cell_type": "code",
   "execution_count": 4,
   "metadata": {},
   "outputs": [
    {
     "data": {
      "text/plain": [
       "True"
      ]
     },
     "execution_count": 4,
     "metadata": {},
     "output_type": "execute_result"
    }
   ],
   "source": [
    "nt.isprime(23)"
   ]
  },
  {
   "cell_type": "code",
   "execution_count": 5,
   "metadata": {},
   "outputs": [
    {
     "data": {
      "text/plain": [
       "1710"
      ]
     },
     "execution_count": 5,
     "metadata": {},
     "output_type": "execute_result"
    }
   ],
   "source": [
    "nt.compositepi(2017)"
   ]
  },
  {
   "cell_type": "code",
   "execution_count": 6,
   "metadata": {},
   "outputs": [
    {
     "data": {
      "text/plain": [
       "1789"
      ]
     },
     "execution_count": 6,
     "metadata": {},
     "output_type": "execute_result"
    }
   ],
   "source": [
    "nt.prevprime(1797)"
   ]
  },
  {
   "cell_type": "code",
   "execution_count": 7,
   "metadata": {},
   "outputs": [
    {
     "data": {
      "text/plain": [
       "(29, 2)"
      ]
     },
     "execution_count": 7,
     "metadata": {},
     "output_type": "execute_result"
    }
   ],
   "source": [
    "nt.perfect_power(841)"
   ]
  },
  {
   "cell_type": "code",
   "execution_count": 8,
   "metadata": {},
   "outputs": [
    {
     "data": {
      "text/plain": [
       "(2, 8)"
      ]
     },
     "execution_count": 8,
     "metadata": {},
     "output_type": "execute_result"
    }
   ],
   "source": [
    "nt.perfect_power(256)"
   ]
  },
  {
   "cell_type": "code",
   "execution_count": null,
   "metadata": {},
   "outputs": [],
   "source": []
  },
  {
   "cell_type": "code",
   "execution_count": null,
   "metadata": {},
   "outputs": [],
   "source": []
  },
  {
   "cell_type": "code",
   "execution_count": 11,
   "metadata": {},
   "outputs": [
    {
     "data": {
      "text/plain": [
       "7.3890560989306495"
      ]
     },
     "execution_count": 11,
     "metadata": {},
     "output_type": "execute_result"
    }
   ],
   "source": [
    "np.e**2\n",
    "#2**(9/2)"
   ]
  },
  {
   "cell_type": "code",
   "execution_count": 12,
   "metadata": {},
   "outputs": [
    {
     "data": {
      "text/plain": [
       "4.69041575982343"
      ]
     },
     "execution_count": 12,
     "metadata": {},
     "output_type": "execute_result"
    }
   ],
   "source": [
    "np.sqrt(22)"
   ]
  },
  {
   "cell_type": "code",
   "execution_count": 13,
   "metadata": {},
   "outputs": [
    {
     "data": {
      "text/plain": [
       "0.003696784962986375"
      ]
     },
     "execution_count": 13,
     "metadata": {},
     "output_type": "execute_result"
    }
   ],
   "source": [
    "np.log(2)/(375/2)"
   ]
  },
  {
   "cell_type": "code",
   "execution_count": 14,
   "metadata": {},
   "outputs": [
    {
     "data": {
      "text/plain": [
       "8.093347705771732"
      ]
     },
     "execution_count": 14,
     "metadata": {},
     "output_type": "execute_result"
    }
   ],
   "source": [
    "22/np.e"
   ]
  },
  {
   "cell_type": "code",
   "execution_count": null,
   "metadata": {},
   "outputs": [],
   "source": []
  },
  {
   "cell_type": "code",
   "execution_count": 16,
   "metadata": {},
   "outputs": [
    {
     "data": {
      "text/plain": [
       "119.19293893954732"
      ]
     },
     "execution_count": 16,
     "metadata": {},
     "output_type": "execute_result"
    }
   ],
   "source": [
    "324/np.e"
   ]
  },
  {
   "cell_type": "code",
   "execution_count": 17,
   "metadata": {},
   "outputs": [
    {
     "data": {
      "text/plain": [
       "187.5"
      ]
     },
     "execution_count": 17,
     "metadata": {},
     "output_type": "execute_result"
    }
   ],
   "source": [
    "375/2"
   ]
  },
  {
   "cell_type": "code",
   "execution_count": 18,
   "metadata": {},
   "outputs": [
    {
     "data": {
      "text/plain": [
       "324.8352589876188"
      ]
     },
     "execution_count": 18,
     "metadata": {},
     "output_type": "execute_result"
    }
   ],
   "source": [
    "187.5/γ"
   ]
  },
  {
   "cell_type": "code",
   "execution_count": 19,
   "metadata": {},
   "outputs": [
    {
     "data": {
      "text/plain": [
       "22.000000000000004"
      ]
     },
     "execution_count": 19,
     "metadata": {},
     "output_type": "execute_result"
    }
   ],
   "source": [
    "np.e*8.093347705771732"
   ]
  },
  {
   "cell_type": "code",
   "execution_count": 20,
   "metadata": {},
   "outputs": [
    {
     "data": {
      "text/plain": [
       "4.69041575982343"
      ]
     },
     "execution_count": 20,
     "metadata": {},
     "output_type": "execute_result"
    }
   ],
   "source": [
    "np.sqrt(22)"
   ]
  },
  {
   "cell_type": "code",
   "execution_count": 21,
   "metadata": {},
   "outputs": [
    {
     "data": {
      "text/plain": [
       "118.99999999999999"
      ]
     },
     "execution_count": 21,
     "metadata": {},
     "output_type": "execute_result"
    }
   ],
   "source": [
    "np.sqrt(119)**2"
   ]
  },
  {
   "cell_type": "code",
   "execution_count": 22,
   "metadata": {},
   "outputs": [
    {
     "data": {
      "text/plain": [
       "False"
      ]
     },
     "execution_count": 22,
     "metadata": {},
     "output_type": "execute_result"
    }
   ],
   "source": [
    "nt.isprime(469041575982343)"
   ]
  },
  {
   "cell_type": "code",
   "execution_count": 23,
   "metadata": {},
   "outputs": [
    {
     "data": {
      "text/plain": [
       "469041575982373"
      ]
     },
     "execution_count": 23,
     "metadata": {},
     "output_type": "execute_result"
    }
   ],
   "source": [
    "nt.nextprime(469041575982343)"
   ]
  },
  {
   "cell_type": "code",
   "execution_count": 24,
   "metadata": {},
   "outputs": [
    {
     "data": {
      "text/plain": [
       "[7, 13, 29, 71, 79, 269, 117797]"
      ]
     },
     "execution_count": 24,
     "metadata": {},
     "output_type": "execute_result"
    }
   ],
   "source": [
    "nt.primefactors(469041575982343)"
   ]
  },
  {
   "cell_type": "code",
   "execution_count": 25,
   "metadata": {},
   "outputs": [
    {
     "data": {
      "text/plain": [
       "[469041575982373]"
      ]
     },
     "execution_count": 25,
     "metadata": {},
     "output_type": "execute_result"
    }
   ],
   "source": [
    "nt.primefactors(469041575982373)"
   ]
  },
  {
   "cell_type": "code",
   "execution_count": 26,
   "metadata": {},
   "outputs": [
    {
     "data": {
      "text/plain": [
       "[2, 11]"
      ]
     },
     "execution_count": 26,
     "metadata": {},
     "output_type": "execute_result"
    }
   ],
   "source": [
    "nt.primefactors(22)"
   ]
  },
  {
   "cell_type": "code",
   "execution_count": 27,
   "metadata": {},
   "outputs": [
    {
     "data": {
      "text/plain": [
       "[3, 5]"
      ]
     },
     "execution_count": 27,
     "metadata": {},
     "output_type": "execute_result"
    }
   ],
   "source": [
    "nt.primefactors(375)"
   ]
  },
  {
   "cell_type": "code",
   "execution_count": 28,
   "metadata": {},
   "outputs": [
    {
     "data": {
      "text/plain": [
       "{3: 1, 5: 3}"
      ]
     },
     "execution_count": 28,
     "metadata": {},
     "output_type": "execute_result"
    }
   ],
   "source": [
    "nt.factorint(375)"
   ]
  },
  {
   "cell_type": "code",
   "execution_count": 29,
   "metadata": {},
   "outputs": [
    {
     "data": {
      "text/plain": [
       "375"
      ]
     },
     "execution_count": 29,
     "metadata": {},
     "output_type": "execute_result"
    }
   ],
   "source": [
    "5**3*3"
   ]
  },
  {
   "cell_type": "code",
   "execution_count": 30,
   "metadata": {},
   "outputs": [
    {
     "data": {
      "text/plain": [
       "187.5"
      ]
     },
     "execution_count": 30,
     "metadata": {},
     "output_type": "execute_result"
    }
   ],
   "source": [
    "375/2"
   ]
  },
  {
   "cell_type": "code",
   "execution_count": 31,
   "metadata": {},
   "outputs": [
    {
     "data": {
      "text/plain": [
       "3584912846.131592"
      ]
     },
     "execution_count": 31,
     "metadata": {},
     "output_type": "execute_result"
    }
   ],
   "source": [
    "np.exp(22)"
   ]
  },
  {
   "cell_type": "code",
   "execution_count": 32,
   "metadata": {},
   "outputs": [
    {
     "data": {
      "text/plain": [
       "59874.141715197824"
      ]
     },
     "execution_count": 32,
     "metadata": {},
     "output_type": "execute_result"
    }
   ],
   "source": [
    "np.sqrt(np.exp(22))"
   ]
  },
  {
   "cell_type": "code",
   "execution_count": 33,
   "metadata": {},
   "outputs": [
    {
     "data": {
      "text/plain": [
       "[2, 11]"
      ]
     },
     "execution_count": 33,
     "metadata": {},
     "output_type": "execute_result"
    }
   ],
   "source": [
    "nt.factorint(22, multiple=True)"
   ]
  },
  {
   "cell_type": "code",
   "execution_count": 34,
   "metadata": {},
   "outputs": [
    {
     "data": {
      "text/plain": [
       "[3, 5, 5, 5]"
      ]
     },
     "execution_count": 34,
     "metadata": {},
     "output_type": "execute_result"
    }
   ],
   "source": [
    "nt.factorint(375, multiple=True)"
   ]
  },
  {
   "cell_type": "code",
   "execution_count": 35,
   "metadata": {},
   "outputs": [
    {
     "data": {
      "text/plain": [
       "373"
      ]
     },
     "execution_count": 35,
     "metadata": {},
     "output_type": "execute_result"
    }
   ],
   "source": [
    "nt.prevprime(375)"
   ]
  },
  {
   "cell_type": "code",
   "execution_count": 36,
   "metadata": {},
   "outputs": [
    {
     "data": {
      "text/plain": [
       "False"
      ]
     },
     "execution_count": 36,
     "metadata": {},
     "output_type": "execute_result"
    }
   ],
   "source": [
    "nt.isprime(1875)"
   ]
  },
  {
   "cell_type": "code",
   "execution_count": 45,
   "metadata": {},
   "outputs": [
    {
     "name": "stdout",
     "output_type": "stream",
     "text": [
      "1 0.0\n",
      "2 0.25\n",
      "3 0.3747760283742223\n",
      "4 0.43679735452087787\n",
      "5 0.4675323722547668\n",
      "6 0.4827282814300045\n",
      "7 0.4902272447210075\n",
      "8 0.4939218328634473\n",
      "9 0.49573939769102027\n",
      "10 0.49663232694631704\n",
      "11 0.4970704290482609\n",
      "12 0.4972851038526445\n",
      "13 0.4973901649327358\n",
      "14 0.4974415170464874\n",
      "15 0.49746658536648986\n",
      "16 0.4974788070809785\n",
      "17 0.4974847577219378\n",
      "18 0.4974876510659317\n",
      "19 0.4974890558719262\n",
      "20 0.4974897369280204\n",
      "21 0.4974900665868028\n",
      "22 0.49749022588865244\n",
      "23 0.49749030273160694\n",
      "24 0.4974903397280219\n",
      "25 0.49749035750362564\n",
      "26 0.49749036602530244\n",
      "27 0.49749037010076463\n",
      "28 0.49749037204469587\n",
      "29 0.49749037296922655\n",
      "30 0.4974903734075166\n",
      "31 0.49749037361454956\n",
      "32 0.4974903737119499\n",
      "33 0.4974903737575629\n",
      "34 0.4974903737788117\n",
      "35 0.4974903737886505\n",
      "36 0.4974903737931738\n",
      "37 0.49749037379523575\n",
      "38 0.4974903737961661\n",
      "39 0.4974903737965806\n",
      "40 0.4974903737967623\n",
      "41 0.4974903737968403\n",
      "42 0.49749037379687283\n",
      "43 0.4974903737968858\n",
      "44 0.4974903737968907\n",
      "45 0.4974903737968923\n",
      "46 0.4974903737968927\n",
      "47 0.4974903737968927\n",
      "48 0.4974903737968926\n",
      "49 0.4974903737968925\n",
      "50 0.4974903737968924\n",
      "51 0.49749037379689237\n",
      "52 0.4974903737968923\n",
      "53 0.4974903737968923\n",
      "54 0.4974903737968923\n",
      "55 0.4974903737968923\n",
      "56 0.4974903737968923\n",
      "57 0.4974903737968923\n",
      "58 0.4974903737968923\n",
      "59 0.4974903737968923\n",
      "60 0.4974903737968923\n",
      "61 0.4974903737968923\n",
      "62 0.4974903737968923\n",
      "63 0.4974903737968923\n",
      "Backwards-y-character = 0.4974903737968923\n",
      "Fine structure constant alpha = 0.36932061860018994\n",
      "Inverse alpha = 2.7076744423049814\n"
     ]
    }
   ],
   "source": [
    "import math\n",
    "import numpy as np\n",
    "import scipy\n",
    "from scipy import power\n",
    "\n",
    "# Source: https://drive.google.com/file/d/1WPsVhtBQmdgQl25_evlGQ1mmTQE0Ww4a/view\n",
    "\n",
    "def summand(j):\n",
    "    integral = ((j + 1 / j) * scipy.log(j) - j + 1 / j) / scipy.log(2**187.5)\n",
    "    return pow(2, -j) * (1 - integral)\n",
    "\n",
    "# From equation 7.1\n",
    "def compute_backwards_y(verbose = True):\n",
    "    s = 0\n",
    "    for j in range(1, 64):\n",
    "        if verbose:\n",
    "            print(j, s / 2)\n",
    "        s += summand(j)\n",
    "    return s / 2\n",
    "\n",
    "backwards_y = compute_backwards_y()\n",
    "print(\"Backwards-y-character =\", backwards_y)\n",
    "# Backwards-y-character = 0.029445086917308665\n",
    "\n",
    "# Equation 1.1\n",
    "inverse_alpha = backwards_y * np.pi / np.euler_gamma\n",
    "\n",
    "print(\"Fine structure constant alpha =\", 1 / inverse_alpha)\n",
    "print(\"Inverse alpha =\", inverse_alpha)\n",
    "# Fine structure constant alpha = 6.239867897632327\n",
    "# Inverse alpha = 0.1602598029967017\n",
    "\n",
    "# The correct value is alpha = 0.0072973525664, or 1 / alpha = 137.035999139."
   ]
  },
  {
   "cell_type": "code",
   "execution_count": 54,
   "metadata": {},
   "outputs": [
    {
     "data": {
      "text/plain": [
       "0.5772156649015329"
      ]
     },
     "execution_count": 54,
     "metadata": {},
     "output_type": "execute_result"
    }
   ],
   "source": [
    "γ"
   ]
  },
  {
   "cell_type": "code",
   "execution_count": 51,
   "metadata": {},
   "outputs": [
    {
     "data": {
      "text/plain": [
       "[3, 5]"
      ]
     },
     "execution_count": 51,
     "metadata": {},
     "output_type": "execute_result"
    }
   ],
   "source": [
    "primes=[]\n",
    "for i in range(3,6):\n",
    "    is_prime=True\n",
    "    for j in range(2,i):\n",
    "        if i%j ==0:\n",
    "            is_prime=False\n",
    "    if is_prime == True:\n",
    "        primes= primes + [i]\n",
    "\n",
    "primes"
   ]
  },
  {
   "cell_type": "code",
   "execution_count": null,
   "metadata": {},
   "outputs": [],
   "source": [
    "!pip install gmpy2"
   ]
  },
  {
   "cell_type": "code",
   "execution_count": 53,
   "metadata": {},
   "outputs": [
    {
     "ename": "ModuleNotFoundError",
     "evalue": "No module named 'gmpy2'",
     "output_type": "error",
     "traceback": [
      "\u001b[0;31m---------------------------------------------------------------------------\u001b[0m",
      "\u001b[0;31mModuleNotFoundError\u001b[0m                       Traceback (most recent call last)",
      "\u001b[0;32m<ipython-input-53-78eb45779613>\u001b[0m in \u001b[0;36m<module>\u001b[0;34m\u001b[0m\n\u001b[0;32m----> 1\u001b[0;31m \u001b[0;32mimport\u001b[0m \u001b[0mgmpy2\u001b[0m\u001b[0;34m\u001b[0m\u001b[0;34m\u001b[0m\u001b[0m\n\u001b[0m\u001b[1;32m      2\u001b[0m \u001b[0;32mimport\u001b[0m \u001b[0mrandom\u001b[0m\u001b[0;34m\u001b[0m\u001b[0;34m\u001b[0m\u001b[0m\n\u001b[1;32m      3\u001b[0m \u001b[0;34m\u001b[0m\u001b[0m\n\u001b[1;32m      4\u001b[0m \u001b[0mrng\u001b[0m \u001b[0;34m=\u001b[0m \u001b[0mrandom\u001b[0m\u001b[0;34m.\u001b[0m\u001b[0mSystemRandom\u001b[0m\u001b[0;34m(\u001b[0m\u001b[0;34m)\u001b[0m   \u001b[0;31m# Use system RNG\u001b[0m\u001b[0;34m\u001b[0m\u001b[0;34m\u001b[0m\u001b[0m\n\u001b[1;32m      5\u001b[0m \u001b[0mn\u001b[0m \u001b[0;34m=\u001b[0m \u001b[0mrng\u001b[0m\u001b[0;34m.\u001b[0m\u001b[0mrandint\u001b[0m\u001b[0;34m(\u001b[0m\u001b[0;36m0\u001b[0m\u001b[0;34m,\u001b[0m \u001b[0;36m10\u001b[0m\u001b[0;34m**\u001b[0m\u001b[0;36m1000\u001b[0m\u001b[0;34m)\u001b[0m  \u001b[0;31m# Generate random number up to 1000 digits long\u001b[0m\u001b[0;34m\u001b[0m\u001b[0;34m\u001b[0m\u001b[0m\n",
      "\u001b[0;31mModuleNotFoundError\u001b[0m: No module named 'gmpy2'"
     ]
    }
   ],
   "source": [
    "import gmpy2\n",
    "import random\n",
    "\n",
    "rng = random.SystemRandom()   # Use system RNG\n",
    "n = rng.randint(0, 10**1000)  # Generate random number up to 1000 digits long\n",
    "p = gmpy2.next_prime(n) # Find next probable prime after it.\n",
    "#print(mpz)"
   ]
  },
  {
   "cell_type": "code",
   "execution_count": null,
   "metadata": {},
   "outputs": [],
   "source": [
    "# Initialize a list\n",
    "primes = []\n",
    "for possiblePrime in range(2, 30):\n",
    "    \n",
    "    # Assume number is prime until shown it is not. \n",
    "    isPrime = True\n",
    "    for num in range(2, int(possiblePrime ** 0.5) + 1):\n",
    "        if possiblePrime % num == 0:\n",
    "            isPrime = False\n",
    "            break\n",
    "      \n",
    "    if isPrime:\n",
    "        primes.append(possiblePrime)\n",
    "print(primes)"
   ]
  },
  {
   "cell_type": "code",
   "execution_count": 48,
   "metadata": {},
   "outputs": [],
   "source": [
    "import math\n",
    "\n",
    "def main():\n",
    "    count = 3\n",
    "    \n",
    "    while True:\n",
    "        isprime = True\n",
    "        \n",
    "        for x in range(2, int(math.sqrt(count) + 1)):\n",
    "            if count % x == 0: \n",
    "                isprime = False\n",
    "                break\n",
    "        \n",
    "        if isprime:\n",
    "            print(count)\n",
    "        \n",
    "        count += 1\n"
   ]
  },
  {
   "cell_type": "code",
   "execution_count": null,
   "metadata": {},
   "outputs": [],
   "source": [
    "# Sieve of Eratosthenes\n",
    "# Code by David Eppstein, UC Irvine, 28 Feb 2002\n",
    "# http://code.activestate.com/recipes/117119/\n",
    "\n",
    "def gen_primes():\n",
    "    \"\"\" Generate an infinite sequence of prime numbers.\n",
    "    \"\"\"\n",
    "    # Maps composites to primes witnessing their compositeness.\n",
    "    # This is memory efficient, as the sieve is not \"run forward\"\n",
    "    # indefinitely, but only as long as required by the current\n",
    "    # number being tested.\n",
    "    #\n",
    "    D = {}\n",
    "    \n",
    "    # The running integer that's checked for primeness\n",
    "    q = 2\n",
    "    \n",
    "    while True:\n",
    "        if q not in D:\n",
    "            # q is a new prime.\n",
    "            # Yield it and mark its first multiple that isn't\n",
    "            # already marked in previous iterations\n",
    "            # \n",
    "            yield q\n",
    "            D[q * q] = [q]\n",
    "        else:\n",
    "            # q is composite. D[q] is the list of primes that\n",
    "            # divide it. Since we've reached q, we no longer\n",
    "            # need it in the map, but we'll mark the next \n",
    "            # multiples of its witnesses to prepare for larger\n",
    "            # numbers\n",
    "            # \n",
    "            for p in D[q]:\n",
    "                D.setdefault(p + q, []).append(p)\n",
    "            del D[q]\n",
    "        \n",
    "        q += 1"
   ]
  },
  {
   "cell_type": "code",
   "execution_count": 49,
   "metadata": {},
   "outputs": [
    {
     "name": "stdout",
     "output_type": "stream",
     "text": [
      "[3, 5]\n"
     ]
    }
   ],
   "source": [
    "def get_primes(n):\n",
    "    numbers = set(range(n, 1, -1))\n",
    "    primes = []\n",
    "    while numbers:\n",
    "        p = numbers.pop()\n",
    "        primes.append(p)\n",
    "        numbers.difference_update(set(range(p*2, n+1, p)))\n",
    "    return primes\n",
    "print(primes)"
   ]
  },
  {
   "cell_type": "code",
   "execution_count": 50,
   "metadata": {},
   "outputs": [
    {
     "name": "stderr",
     "output_type": "stream",
     "text": [
      "UsageError: Line magic function `%timeit.Timer(stmt='get_primes.get_primes(1000000)',` not found.\n"
     ]
    }
   ],
   "source": [
    "%timeit.Timer(stmt='get_primes.get_primes(1000000)', setup='import   get_primes').%timeit(1)"
   ]
  },
  {
   "cell_type": "code",
   "execution_count": null,
   "metadata": {},
   "outputs": [],
   "source": []
  }
 ],
 "metadata": {
  "kernelspec": {
   "display_name": "Python 3",
   "language": "python",
   "name": "python3"
  },
  "language_info": {
   "codemirror_mode": {
    "name": "ipython",
    "version": 3
   },
   "file_extension": ".py",
   "mimetype": "text/x-python",
   "name": "python",
   "nbconvert_exporter": "python",
   "pygments_lexer": "ipython3",
   "version": "3.7.2"
  }
 },
 "nbformat": 4,
 "nbformat_minor": 2
}
